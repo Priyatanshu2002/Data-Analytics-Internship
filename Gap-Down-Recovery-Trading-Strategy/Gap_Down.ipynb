{
 "cells": [
  {
   "cell_type": "markdown",
   "id": "c8db53de",
   "metadata": {},
   "source": [
    "# 📘 Gap Down Recovery Strategy - NIFTY 500 Stocks\n",
    "This notebook implements a trading strategy on NIFTY 500 stocks based on the idea of gap down recovery. The idea is to detect stocks that open significantly lower than the previous day (gap down), and enter a trade if they recover a certain percentage within a few days. We then monitor the trade to see if it hits a target profit or a stop loss."
   ]
  },
  {
   "cell_type": "markdown",
   "id": "70378717",
   "metadata": {},
   "source": [
    "### 🧩 Step 1: Import Required Libraries"
   ]
  },
  {
   "cell_type": "markdown",
   "id": "1843cd5b",
   "metadata": {},
   "source": [
    "pandas: For handling data tables (DataFrames).\n",
    "\n",
    "numpy: For numerical operations.\n",
    "\n",
    "yfinance: To download historical stock price data.\n",
    "\n",
    "tqdm: To display progress bars during long loops."
   ]
  },
  {
   "cell_type": "code",
   "execution_count": 1,
   "id": "eafa9e7c",
   "metadata": {},
   "outputs": [],
   "source": [
    "import pandas as pd\n",
    "import numpy as np\n",
    "import yfinance as yf\n",
    "from tqdm import tqdm"
   ]
  },
  {
   "cell_type": "markdown",
   "id": "36f6d7ad",
   "metadata": {},
   "source": [
    "### ⚙️ Step 2: Set Strategy Parameters"
   ]
  },
  {
   "cell_type": "markdown",
   "id": "486df8af",
   "metadata": {},
   "source": [
    "We define the rules of our trading strategy:\n",
    "\n",
    "Look for a stock that gaps down more than 2%.\n",
    "\n",
    "Enter the trade if it recovers at least 2%.\n",
    "\n",
    "Exit when either:\n",
    "\n",
    "Profit reaches 10%\n",
    "\n",
    "Loss reaches 5%\n",
    "\n",
    "Or after 60 days, whichever comes first."
   ]
  },
  {
   "cell_type": "code",
   "execution_count": 2,
   "id": "a017784f",
   "metadata": {},
   "outputs": [],
   "source": [
    "gap_down_pct = -2.0     # Gap down: more than -2% from previous close\n",
    "recovery_pct = 2.0      # Recovery: at least +2% from gap day close\n",
    "tp_pct = 10.0           # Target Profit: +10%\n",
    "sl_pct = -5.0           # Stop Loss: -5%\n",
    "max_hold_days = 60      # Maximum number of days to hold a trade"
   ]
  },
  {
   "cell_type": "markdown",
   "id": "268e57d0",
   "metadata": {},
   "source": [
    "### 📄 Step 3: Load NIFTY 500 Stock List"
   ]
  },
  {
   "cell_type": "markdown",
   "id": "c8114489",
   "metadata": {},
   "source": [
    "We load a CSV file containing a list of NIFTY 500 stock symbols that we want to analyze."
   ]
  },
  {
   "cell_type": "code",
   "execution_count": 3,
   "id": "fea6dba3",
   "metadata": {},
   "outputs": [],
   "source": [
    "nifty_500 = pd.read_csv(r'C:\\Users\\Priyatanshu Ghosh\\Documents\\DS Practice\\NIFTY500_2.csv')"
   ]
  },
  {
   "cell_type": "markdown",
   "id": "8d0fd4d7",
   "metadata": {},
   "source": [
    "### 🧮 Step 4: Prepare an Empty List for Trades"
   ]
  },
  {
   "cell_type": "code",
   "execution_count": 4,
   "id": "06737ec1",
   "metadata": {},
   "outputs": [],
   "source": [
    "all_trades = []"
   ]
  },
  {
   "cell_type": "markdown",
   "id": "c6a18382",
   "metadata": {},
   "source": [
    "This list will hold details of every trade taken by the strategy (entry, exit, result, etc.)."
   ]
  },
  {
   "cell_type": "markdown",
   "id": "e771b23c",
   "metadata": {},
   "source": [
    "### 🔁 Step 5: Analyze Each Stock"
   ]
  },
  {
   "cell_type": "markdown",
   "id": "f0bfa6c8",
   "metadata": {},
   "source": [
    "We loop through each stock and:\n",
    "\n",
    "Download 5 years of daily data using yfinance\n",
    "\n",
    "Calculate if and when the stock gapped down and recovered\n",
    "\n",
    "Simulate a trade based on our strategy"
   ]
  },
  {
   "cell_type": "code",
   "execution_count": 8,
   "id": "32cae5e2",
   "metadata": {},
   "outputs": [
    {
     "name": "stderr",
     "output_type": "stream",
     "text": [
      "100%|██████████| 501/501 [05:15<00:00,  1.59it/s]\n"
     ]
    }
   ],
   "source": [
    "for stock in tqdm(nifty_500['Symbol']):\n",
    "    \n",
    "    try:\n",
    "        # Download 5 years daily data\n",
    "        df = yf.download(stock, period=\"5y\", interval=\"1d\", auto_adjust=True, progress=False)\n",
    "\n",
    "        if df.shape[0] < 500:\n",
    "            continue  # Skip if not enough data\n",
    "\n",
    "        # Fix column names (IMPORTANT FIX)\n",
    "        df.columns = df.columns.get_level_values(0)\n",
    "\n",
    "        df.reset_index(inplace=True)\n",
    "        \n",
    "        # Add previous close column\n",
    "        df['Prev_Close'] = df['Close'].shift(1)\n",
    "        df = df.dropna()\n",
    "\n",
    "# We have flattened the column names,\n",
    "# Added a column for the previous day's closing price,\n",
    "# Removed rows with missing values\n",
    "\n",
    "        # Calculate Gap % (Open vs Prev Close)\n",
    "        df.loc[:, 'Gap_Pct'] = ((df['Open'] - df['Prev_Close']) / df['Prev_Close']) * 100\n",
    "\n",
    "# This tells us by how much the stock price gapped up or down compared to the previous day's close.\n",
    "\n",
    "\n",
    "# 🔍 Detect Gap Down and Recovery\n",
    "# We loop through each row in the DataFrame and:\n",
    "# Look for a gap down of more than -2%\n",
    "# Check if the stock recovers at least +2% after the gap\n",
    "# Enter a trade on the recovery\n",
    "# Monitor for up to 60 days and exit if:\n",
    "# Profit ≥ 10% → WIN\n",
    "# Loss ≤ -5% → LOSS\n",
    "# Neither → Exit at 60 days → HOLD_EXIT     \n",
    "\n",
    "\n",
    "        # Loop through rows\n",
    "        for i in range(2, len(df)):\n",
    "            \n",
    "            # GAP DOWN detection\n",
    "            if df.loc[i, 'Gap_Pct'] <= gap_down_pct:\n",
    "                \n",
    "                gap_day_close = df.loc[i, 'Close']\n",
    "                \n",
    "                # Look for recovery entry (same or later day)\n",
    "                for j in range(i, len(df)):\n",
    "                    \n",
    "                    recovery_now_pct = ((df.loc[j, 'Close'] - gap_day_close) / gap_day_close) * 100\n",
    "                    \n",
    "                    if recovery_now_pct >= recovery_pct:\n",
    "                        # ENTRY triggered\n",
    "                        entry_date = df.loc[j, 'Date']\n",
    "                        entry_price = df.loc[j, 'Close']\n",
    "                        \n",
    "                        trade_exit = False\n",
    "                        \n",
    "                        # Manage trade: next 60 days max\n",
    "                        for k in range(j+1, min(j+1+max_hold_days, len(df))):\n",
    "                            \n",
    "                            pnl_pct = ((df.loc[k, 'Close'] - entry_price) / entry_price) * 100\n",
    "                            \n",
    "                            if pnl_pct >= tp_pct:\n",
    "                                # Take profit hit\n",
    "                                all_trades.append([\n",
    "                                    stock, entry_date, entry_price,\n",
    "                                    df.loc[k, 'Date'], df.loc[k, 'Close'],\n",
    "                                    pnl_pct, (df.loc[k, 'Date'] - entry_date).days, 'WIN'\n",
    "                                ])\n",
    "                                trade_exit = True\n",
    "                                break\n",
    "                            \n",
    "                            elif pnl_pct <= sl_pct:\n",
    "                                # Stop loss hit\n",
    "                                all_trades.append([\n",
    "                                    stock, entry_date, entry_price,\n",
    "                                    df.loc[k, 'Date'], df.loc[k, 'Close'],\n",
    "                                    pnl_pct, (df.loc[k, 'Date'] - entry_date).days, 'LOSS'\n",
    "                                ])\n",
    "                                trade_exit = True\n",
    "                                break\n",
    "                        \n",
    "                        # Force exit after max hold\n",
    "                        if not trade_exit:\n",
    "                            pnl_pct = ((df.loc[k-1, 'Close'] - entry_price) / entry_price) * 100\n",
    "                            all_trades.append([\n",
    "                                stock, entry_date, entry_price,\n",
    "                                df.loc[k-1, 'Date'], df.loc[k-1, 'Close'],\n",
    "                                pnl_pct, (df.loc[k-1, 'Date'] - entry_date).days, 'HOLD_EXIT'\n",
    "                            ])\n",
    "                        \n",
    "                        break  # Only take first trade per gap\n",
    "\n",
    "    except Exception as e:\n",
    "        print(f\"Error processing {stock}: {e}\")"
   ]
  },
  {
   "cell_type": "markdown",
   "id": "b294ac66",
   "metadata": {},
   "source": [
    "### 📝 Step 6: Convert All Trades to DataFrame"
   ]
  },
  {
   "cell_type": "markdown",
   "id": "5a2b73b3",
   "metadata": {},
   "source": [
    "We store all trades in a structured DataFrame to analyze or export."
   ]
  },
  {
   "cell_type": "code",
   "execution_count": 9,
   "id": "23bbc0c5",
   "metadata": {},
   "outputs": [],
   "source": [
    "trades_df = pd.DataFrame(all_trades, columns=[\n",
    "    'Stock', 'Entry_Date', 'Entry_Price',\n",
    "    'Exit_Date', 'Exit_Price',\n",
    "    'PnL_%', 'Days_in_Trade', 'Result'\n",
    "])"
   ]
  },
  {
   "cell_type": "markdown",
   "id": "03aaa625",
   "metadata": {},
   "source": [
    "### 📈 Step 7: Calculate Win Rate"
   ]
  },
  {
   "cell_type": "markdown",
   "id": "89ec2224",
   "metadata": {},
   "source": [
    "We count:\n",
    "\n",
    "Total trades taken\n",
    "\n",
    "Number of winning trades\n",
    "\n",
    "Win rate = (Wins ÷ Total Trades) × 100"
   ]
  },
  {
   "cell_type": "code",
   "execution_count": 10,
   "id": "cef31986",
   "metadata": {},
   "outputs": [],
   "source": [
    "total_trades = len(trades_df)\n",
    "wins = trades_df[trades_df['Result'] == 'WIN'].shape[0]\n",
    "win_rate = (wins / total_trades) * 100 if total_trades > 0 else 0"
   ]
  },
  {
   "cell_type": "code",
   "execution_count": 11,
   "id": "4045edff",
   "metadata": {},
   "outputs": [
    {
     "name": "stdout",
     "output_type": "stream",
     "text": [
      "\n",
      "Total Trades: 21131\n",
      "Winning Trades: 9350\n",
      "Win Rate: 44.25%\n"
     ]
    }
   ],
   "source": [
    "print(f\"\\nTotal Trades: {total_trades}\")\n",
    "print(f\"Winning Trades: {wins}\")\n",
    "print(f\"Win Rate: {win_rate:.2f}%\")"
   ]
  },
  {
   "cell_type": "markdown",
   "id": "755f64ba",
   "metadata": {},
   "source": [
    "### 🗓️ Step 8: Format Dates for Excel and Export Results to Excel"
   ]
  },
  {
   "cell_type": "code",
   "execution_count": 13,
   "id": "e8f478b9",
   "metadata": {},
   "outputs": [],
   "source": [
    "trades_df['Entry_Date'] = pd.to_datetime(trades_df['Entry_Date']).dt.strftime('%Y-%m-%d')\n",
    "trades_df['Exit_Date'] = pd.to_datetime(trades_df['Exit_Date']).dt.strftime('%Y-%m-%d')"
   ]
  },
  {
   "cell_type": "markdown",
   "id": "0bbde6cf",
   "metadata": {},
   "source": [
    "This removes the time portion from dates, making them cleaner in the Excel file."
   ]
  },
  {
   "cell_type": "code",
   "execution_count": 14,
   "id": "c852dd48",
   "metadata": {},
   "outputs": [],
   "source": [
    "trades_df.to_excel(\"gap_down_recovery_trades.xlsx\", index=False)"
   ]
  },
  {
   "cell_type": "markdown",
   "id": "3218265d",
   "metadata": {},
   "source": [
    "We save the final results to an Excel file named gap_down_recovery_trades.xlsx for future use."
   ]
  },
  {
   "cell_type": "code",
   "execution_count": 15,
   "id": "d563d6de",
   "metadata": {},
   "outputs": [
    {
     "name": "stdout",
     "output_type": "stream",
     "text": [
      "\n",
      "Excel file saved: gap_down_recovery_trades.xlsx\n"
     ]
    }
   ],
   "source": [
    "print(\"\\nExcel file saved: gap_down_recovery_trades.xlsx\")"
   ]
  },
  {
   "cell_type": "markdown",
   "id": "1a97531c",
   "metadata": {},
   "source": [
    "Confirmation that the Excel file has been saved"
   ]
  }
 ],
 "metadata": {
  "kernelspec": {
   "display_name": "Python 3",
   "language": "python",
   "name": "python3"
  },
  "language_info": {
   "codemirror_mode": {
    "name": "ipython",
    "version": 3
   },
   "file_extension": ".py",
   "mimetype": "text/x-python",
   "name": "python",
   "nbconvert_exporter": "python",
   "pygments_lexer": "ipython3",
   "version": "3.13.5"
  }
 },
 "nbformat": 4,
 "nbformat_minor": 5
}
